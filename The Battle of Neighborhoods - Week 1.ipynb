{
 "cells": [
  {
   "cell_type": "markdown",
   "metadata": {},
   "source": [
    "# The Battle of the Neighborhoods - Week 1"
   ]
  },
  {
   "cell_type": "markdown",
   "metadata": {},
   "source": [
    "## Introduction & Business Problem "
   ]
  },
  {
   "cell_type": "markdown",
   "metadata": {},
   "source": [
    "The City of New York, is the most populous city in the United States. \n",
    "It is diverse and is the financial capital of USA. \n",
    "It is multicultural. \n",
    "It provides lot of business opportunities and business friendly environment. \n",
    "It has attracted many different players into the market. \n",
    "It is a global hub of business and commerce. \n",
    "The city is a major center for banking and finance, retailing, world trade, transportation, tourism, real estate, new media, traditional media, advertising, legal services, accountancy, insurance, theater, fashion, and the arts in the United States.\n",
    "\n",
    "This also means that the market is highly competitive. As it is highly developed city so cost of doing business is also one of the highest.\n",
    "\n",
    "I was hired by a coffee shop named Devocion, a small company that makes the best and freshest coffee in New York.\n",
    "We have 4 shops and we open a new one in Brooklyn, Cause the shop we opened there at Williamsburg was a hit, despite all the competition we made huge profits. \n",
    "We want to collect data and get some few neighborhoods that coffee is popular at, but we believe that it'll be like the coffee shop we opened at Williamsburg.\n"
   ]
  },
  {
   "cell_type": "markdown",
   "metadata": {},
   "source": [
    "###  Target Audience"
   ]
  },
  {
   "cell_type": "markdown",
   "metadata": {},
   "source": [
    "The objective is to locate and recommend to the Devocion which neighborhood of Brooklyn will be best choice to start a Coffee Shop. \n",
    "The Management also expects to understand the rationale of the recommendations made.\n",
    "\n",
    "This would interest anyone who wants to start a new coffee shop in Brooklyn, in neighborhoods where coffee is very popular and the competition is intense"
   ]
  },
  {
   "cell_type": "markdown",
   "metadata": {},
   "source": [
    "## Data"
   ]
  },
  {
   "cell_type": "markdown",
   "metadata": {},
   "source": [
    "#### Our data will be collected From 2 sources:"
   ]
  },
  {
   "cell_type": "markdown",
   "metadata": {},
   "source": [
    "1. JSON File with new york Neighborhoods and borough, where we will extract only the relevant data, of Brooklyn.\n",
    "    The JSON file will be collected at:\n",
    "    https://cocl.us/new_york_dataset\n",
    "    We will organize it and extract only the Brooklyn data.\n",
    "    This File contains 4 columns:\n",
    "    1)Borough\n",
    "    2)Neighborhood\n",
    "    3)Latitude\n",
    "    4)Longitude\n",
    "    "
   ]
  },
  {
   "cell_type": "markdown",
   "metadata": {},
   "source": [
    "Only Brooklyn Data"
   ]
  },
  {
   "cell_type": "markdown",
   "metadata": {},
   "source": [
    "<img src=\"Brooklyn_data.PNG\">"
   ]
  },
  {
   "cell_type": "markdown",
   "metadata": {},
   "source": [
    "2. Foursquare API, to search for common venues around each neighborhood, and cluster them into groups.\n",
    "Using it,\n",
    "We get the top 10 most common venues to each neighberhood, which looks like that"
   ]
  },
  {
   "cell_type": "markdown",
   "metadata": {},
   "source": [
    "<img src=\"Most_Common_Venues.PNG\">"
   ]
  }
 ],
 "metadata": {
  "kernelspec": {
   "display_name": "Python",
   "language": "python",
   "name": "conda-env-python-py"
  },
  "language_info": {
   "codemirror_mode": {
    "name": "ipython",
    "version": 3
   },
   "file_extension": ".py",
   "mimetype": "text/x-python",
   "name": "python",
   "nbconvert_exporter": "python",
   "pygments_lexer": "ipython3",
   "version": "3.6.10"
  }
 },
 "nbformat": 4,
 "nbformat_minor": 4
}
